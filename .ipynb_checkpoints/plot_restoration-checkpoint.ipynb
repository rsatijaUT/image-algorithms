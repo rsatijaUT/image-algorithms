{
 "cells": [
  {
   "cell_type": "code",
   "execution_count": 1,
   "metadata": {},
   "outputs": [],
   "source": [
    "%matplotlib inline"
   ]
  },
  {
   "cell_type": "markdown",
   "metadata": {},
   "source": [
    "\n",
    "# Image Deconvolution\n",
    "\n",
    "\n",
    "In this example, we deconvolve a noisy version of an image using Wiener\n",
    "and unsupervised Wiener algorithms. This algorithms are based on\n",
    "linear models that can't restore sharp edge as much as non-linear\n",
    "methods (like TV restoration) but are much faster.\n",
    "\n",
    "Wiener filter\n",
    "-------------\n",
    "The inverse filter based on the PSF (Point Spread Function),\n",
    "the prior regularisation (penalisation of high frequency) and the\n",
    "tradeoff between the data and prior adequacy. The regularization\n",
    "parameter must be hand tuned.\n",
    "\n",
    "Unsupervised Wiener\n",
    "-------------------\n",
    "This algorithm has a self-tuned regularisation parameters based on\n",
    "data learning. This is not common and based on the following\n",
    "publication [1]_. The algorithm is based on a iterative Gibbs sampler that\n",
    "draw alternatively samples of posterior conditional law of the image,\n",
    "the noise power and the image frequency power.\n",
    "\n",
    ".. [1] François Orieux, Jean-François Giovannelli, and Thomas\n",
    "       Rodet, \"Bayesian estimation of regularization and point\n",
    "       spread function parameters for Wiener-Hunt deconvolution\",\n",
    "       J. Opt. Soc. Am. A 27, 1593-1607 (2010)\n"
   ]
  },
  {
   "cell_type": "code",
   "execution_count": 2,
   "metadata": {},
   "outputs": [
    {
     "ename": "ModuleNotFoundError",
     "evalue": "No module named 'skimage'",
     "output_type": "error",
     "traceback": [
      "\u001b[0;31m---------------------------------------------------------------------------\u001b[0m",
      "\u001b[0;31mModuleNotFoundError\u001b[0m                       Traceback (most recent call last)",
      "\u001b[0;32m<ipython-input-2-593cbf65753a>\u001b[0m in \u001b[0;36m<module>\u001b[0;34m()\u001b[0m\n\u001b[1;32m      2\u001b[0m \u001b[0;32mimport\u001b[0m \u001b[0mmatplotlib\u001b[0m\u001b[0;34m.\u001b[0m\u001b[0mpyplot\u001b[0m \u001b[0;32mas\u001b[0m \u001b[0mplt\u001b[0m\u001b[0;34m\u001b[0m\u001b[0;34m\u001b[0m\u001b[0m\n\u001b[1;32m      3\u001b[0m \u001b[0;34m\u001b[0m\u001b[0m\n\u001b[0;32m----> 4\u001b[0;31m \u001b[0;32mfrom\u001b[0m \u001b[0mskimage\u001b[0m \u001b[0;32mimport\u001b[0m \u001b[0mcolor\u001b[0m\u001b[0;34m,\u001b[0m \u001b[0mdata\u001b[0m\u001b[0;34m,\u001b[0m \u001b[0mrestoration\u001b[0m\u001b[0;34m\u001b[0m\u001b[0;34m\u001b[0m\u001b[0m\n\u001b[0m\u001b[1;32m      5\u001b[0m \u001b[0;34m\u001b[0m\u001b[0m\n\u001b[1;32m      6\u001b[0m \u001b[0mastro\u001b[0m \u001b[0;34m=\u001b[0m \u001b[0mcolor\u001b[0m\u001b[0;34m.\u001b[0m\u001b[0mrgb2gray\u001b[0m\u001b[0;34m(\u001b[0m\u001b[0mdata\u001b[0m\u001b[0;34m.\u001b[0m\u001b[0mastronaut\u001b[0m\u001b[0;34m(\u001b[0m\u001b[0;34m)\u001b[0m\u001b[0;34m)\u001b[0m\u001b[0;34m\u001b[0m\u001b[0;34m\u001b[0m\u001b[0m\n",
      "\u001b[0;31mModuleNotFoundError\u001b[0m: No module named 'skimage'"
     ]
    }
   ],
   "source": [
    "import numpy as np\n",
    "import matplotlib.pyplot as plt\n",
    "\n",
    "from skimage import color, data, restoration\n",
    "\n",
    "astro = color.rgb2gray(data.astronaut())\n",
    "from scipy.signal import convolve2d as conv2\n",
    "psf = np.ones((5, 5)) / 25\n",
    "astro = conv2(astro, psf, 'same')\n",
    "astro += 0.1 * astro.std() * np.random.standard_normal(astro.shape)\n",
    "\n",
    "deconvolved, _ = restoration.unsupervised_wiener(astro, psf)\n",
    "\n",
    "fig, ax = plt.subplots(nrows=1, ncols=2, figsize=(8, 5),\n",
    "                       sharex=True, sharey=True)\n",
    "\n",
    "plt.gray()\n",
    "\n",
    "ax[0].imshow(astro, vmin=deconvolved.min(), vmax=deconvolved.max())\n",
    "ax[0].axis('off')\n",
    "ax[0].set_title('Data')\n",
    "\n",
    "ax[1].imshow(deconvolved)\n",
    "ax[1].axis('off')\n",
    "ax[1].set_title('Self tuned restoration')\n",
    "\n",
    "fig.tight_layout()\n",
    "\n",
    "plt.show()"
   ]
  },
  {
   "cell_type": "code",
   "execution_count": null,
   "metadata": {},
   "outputs": [],
   "source": []
  }
 ],
 "metadata": {
  "kernelspec": {
   "display_name": "Python 3",
   "language": "python",
   "name": "python3"
  },
  "language_info": {
   "codemirror_mode": {
    "name": "ipython",
    "version": 3
   },
   "file_extension": ".py",
   "mimetype": "text/x-python",
   "name": "python",
   "nbconvert_exporter": "python",
   "pygments_lexer": "ipython3",
   "version": "3.7.6"
  }
 },
 "nbformat": 4,
 "nbformat_minor": 1
}
